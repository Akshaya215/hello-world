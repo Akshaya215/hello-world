{
  "nbformat": 4,
  "nbformat_minor": 0,
  "metadata": {
    "colab": {
      "name": "assignment_Day6",
      "provenance": [],
      "collapsed_sections": [],
      "authorship_tag": "ABX9TyOCCvV5C2LzocI0MfMQHXgP",
      "include_colab_link": true
    },
    "kernelspec": {
      "name": "python3",
      "display_name": "Python 3"
    }
  },
  "cells": [
    {
      "cell_type": "markdown",
      "metadata": {
        "id": "view-in-github",
        "colab_type": "text"
      },
      "source": [
        "<a href=\"https://colab.research.google.com/github/Akshaya215/hello-world/blob/master/assignment_Day6.ipynb\" target=\"_parent\"><img src=\"https://colab.research.google.com/assets/colab-badge.svg\" alt=\"Open In Colab\"/></a>"
      ]
    },
    {
      "cell_type": "markdown",
      "metadata": {
        "id": "MB7lTN2-fBw6",
        "colab_type": "text"
      },
      "source": [
        "## **Assignment Day_6 B7**"
      ]
    },
    {
      "cell_type": "code",
      "metadata": {
        "id": "KvbjarLue3Kd",
        "colab_type": "code",
        "colab": {}
      },
      "source": [
        "# Create a bank account class that has two attributes\n",
        "class bank_account():\n",
        "    def __init__(self,ownerName,balance):\n",
        "        self.ownerName=ownerName\n",
        "        self.balance=balance\n",
        "    def Deposit(self,amount):\n",
        "        self.balance += amount\n",
        "        print(\" your updated balance is:\",self.balance)\n",
        "    def withdraw(self,amount):\n",
        "        if (self.balance>amount):\n",
        "            self.balance -= amount\n",
        "            print(\"your updated balance is:\",self.balance)\n",
        "        else: \n",
        "            print(\"you don't have enough balance in your account\",self.balance)     "
      ],
      "execution_count": 6,
      "outputs": []
    },
    {
      "cell_type": "code",
      "metadata": {
        "id": "9F1w5ocGg07r",
        "colab_type": "code",
        "colab": {
          "base_uri": "https://localhost:8080/",
          "height": 34
        },
        "outputId": "1bc556b9-3405-4690-eec1-1cac1f554372"
      },
      "source": [
        "detail=bank_account(\"Ansh\",40000)\n",
        "detail.Deposit(5000)"
      ],
      "execution_count": 8,
      "outputs": [
        {
          "output_type": "stream",
          "text": [
            " your updated balance is: 45000\n"
          ],
          "name": "stdout"
        }
      ]
    },
    {
      "cell_type": "code",
      "metadata": {
        "id": "-doP2bLxVdXu",
        "colab_type": "code",
        "colab": {
          "base_uri": "https://localhost:8080/",
          "height": 34
        },
        "outputId": "b8ca6728-d2f5-4f1f-b795-d7fef219e9b4"
      },
      "source": [
        "detail.withdraw(15000)"
      ],
      "execution_count": 9,
      "outputs": [
        {
          "output_type": "stream",
          "text": [
            "your updated balance is: 30000\n"
          ],
          "name": "stdout"
        }
      ]
    },
    {
      "cell_type": "code",
      "metadata": {
        "id": "ytn62GBwVla0",
        "colab_type": "code",
        "colab": {
          "base_uri": "https://localhost:8080/",
          "height": 34
        },
        "outputId": "87149d07-8d9e-4fd1-bc1c-2d1e8b9cd832"
      },
      "source": [
        "detail.withdraw(40000)"
      ],
      "execution_count": 10,
      "outputs": [
        {
          "output_type": "stream",
          "text": [
            "you don't have enough balance in your account 30000\n"
          ],
          "name": "stdout"
        }
      ]
    },
    {
      "cell_type": "code",
      "metadata": {
        "id": "rFlOchHJhdTO",
        "colab_type": "code",
        "colab": {}
      },
      "source": [
        "# Create a cone class  that has two attributes\n",
        "# radius,height\n",
        "import math\n",
        "class Cone():\n",
        "    def __init__(self,radius,height):\n",
        "         self.radius=radius\n",
        "         self.height=height\n",
        "    def Volume(self):\n",
        "        vol = math.pi * (self.radius**2)* (self.height/3)\n",
        "        print(\"Volume is\",vol)\n",
        "    def Surface_area(self): \n",
        "        area = math.pi* self.radius *(self.radius+(math.sqrt((self.radius**2)+(self.height**2))))\n",
        "        print(\"Surface area is:\",area)   "
      ],
      "execution_count": 12,
      "outputs": []
    },
    {
      "cell_type": "code",
      "metadata": {
        "id": "20LiZMjUNAAp",
        "colab_type": "code",
        "colab": {
          "base_uri": "https://localhost:8080/",
          "height": 34
        },
        "outputId": "775e413f-810a-4ddd-92ef-e9086202b025"
      },
      "source": [
        "con=Cone(5,4)\n",
        "con.Volume()"
      ],
      "execution_count": 14,
      "outputs": [
        {
          "output_type": "stream",
          "text": [
            "Volume is 104.71975511965977\n"
          ],
          "name": "stdout"
        }
      ]
    },
    {
      "cell_type": "code",
      "metadata": {
        "id": "1EtCPLzuNSoS",
        "colab_type": "code",
        "colab": {
          "base_uri": "https://localhost:8080/",
          "height": 34
        },
        "outputId": "7e6de547-41f0-4109-dfc6-be6c44c92ff9"
      },
      "source": [
        "con.Surface_area()"
      ],
      "execution_count": 15,
      "outputs": [
        {
          "output_type": "stream",
          "text": [
            "Surface area is: 179.11985666145375\n"
          ],
          "name": "stdout"
        }
      ]
    },
    {
      "cell_type": "code",
      "metadata": {
        "id": "UOOYQsUAXnTD",
        "colab_type": "code",
        "colab": {}
      },
      "source": [
        ""
      ],
      "execution_count": null,
      "outputs": []
    }
  ]
}