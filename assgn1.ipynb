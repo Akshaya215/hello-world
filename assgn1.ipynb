{
  "nbformat": 4,
  "nbformat_minor": 0,
  "metadata": {
    "colab": {
      "name": "assgn1.ipynb",
      "provenance": [],
      "authorship_tag": "ABX9TyNxYNlAHZ23g/y65UWD9z7H",
      "include_colab_link": true
    },
    "kernelspec": {
      "name": "python3",
      "display_name": "Python 3"
    }
  },
  "cells": [
    {
      "cell_type": "markdown",
      "metadata": {
        "id": "view-in-github",
        "colab_type": "text"
      },
      "source": [
        "<a href=\"https://colab.research.google.com/github/Akshaya215/hello-world/blob/master/assgn1.ipynb\" target=\"_parent\"><img src=\"https://colab.research.google.com/assets/colab-badge.svg\" alt=\"Open In Colab\"/></a>"
      ]
    },
    {
      "cell_type": "markdown",
      "metadata": {
        "id": "drthfAMougMM",
        "colab_type": "text"
      },
      "source": [
        "## Question 1 list and its default functions"
      ]
    },
    {
      "cell_type": "code",
      "metadata": {
        "id": "Ih7m0N9hdXyf",
        "colab_type": "code",
        "colab": {
          "base_uri": "https://localhost:8080/",
          "height": 34
        },
        "outputId": "a4651d85-98f3-4e4d-e604-f235bc2a723d"
      },
      "source": [
        "lst=[1,4,8,5]\n",
        "print(lst)"
      ],
      "execution_count": 87,
      "outputs": [
        {
          "output_type": "stream",
          "text": [
            "[1, 4, 8, 5]\n"
          ],
          "name": "stdout"
        }
      ]
    },
    {
      "cell_type": "code",
      "metadata": {
        "id": "qr_CGCpAeCdA",
        "colab_type": "code",
        "colab": {
          "base_uri": "https://localhost:8080/",
          "height": 34
        },
        "outputId": "ea927f5d-f322-4a17-f1e7-3c777cd3cf62"
      },
      "source": [
        "lst.append(0)\n",
        "print(lst)"
      ],
      "execution_count": 88,
      "outputs": [
        {
          "output_type": "stream",
          "text": [
            "[1, 4, 8, 5, 0]\n"
          ],
          "name": "stdout"
        }
      ]
    },
    {
      "cell_type": "code",
      "metadata": {
        "id": "iRrFJ8oreGsv",
        "colab_type": "code",
        "colab": {
          "base_uri": "https://localhost:8080/",
          "height": 34
        },
        "outputId": "2e353f16-7af7-493b-f530-f5b575e11cc5"
      },
      "source": [
        "lst.insert(0,\"python\")\n",
        "print(lst)"
      ],
      "execution_count": 91,
      "outputs": [
        {
          "output_type": "stream",
          "text": [
            "['python', 1, 4, 8, 5, 0]\n"
          ],
          "name": "stdout"
        }
      ]
    },
    {
      "cell_type": "code",
      "metadata": {
        "id": "kT6cmp5lgro7",
        "colab_type": "code",
        "colab": {
          "base_uri": "https://localhost:8080/",
          "height": 34
        },
        "outputId": "f3bc534d-62e0-4ea4-f11c-80f4a5590a37"
      },
      "source": [
        "## to delete an item using index\n",
        "lst.pop(0)\n",
        "print(lst)"
      ],
      "execution_count": 90,
      "outputs": [
        {
          "output_type": "stream",
          "text": [
            "[1, 4, 8, 5, 0]\n"
          ],
          "name": "stdout"
        }
      ]
    },
    {
      "cell_type": "code",
      "metadata": {
        "id": "oCRw9hYVg3nT",
        "colab_type": "code",
        "colab": {}
      },
      "source": [
        "lst=[2,1,5,6,8,0]"
      ],
      "execution_count": 18,
      "outputs": []
    },
    {
      "cell_type": "code",
      "metadata": {
        "id": "UaeL1vcIhX1B",
        "colab_type": "code",
        "colab": {}
      },
      "source": [
        "lst.append(9)"
      ],
      "execution_count": 20,
      "outputs": []
    },
    {
      "cell_type": "code",
      "metadata": {
        "id": "Rnuiy_9dhc-_",
        "colab_type": "code",
        "colab": {
          "base_uri": "https://localhost:8080/",
          "height": 34
        },
        "outputId": "9a21b1db-8e12-4288-b131-305e91dc9bfc"
      },
      "source": [
        "lst"
      ],
      "execution_count": 21,
      "outputs": [
        {
          "output_type": "execute_result",
          "data": {
            "text/plain": [
              "[2, 1, 5, 6, 8, 0, 9]"
            ]
          },
          "metadata": {
            "tags": []
          },
          "execution_count": 21
        }
      ]
    },
    {
      "cell_type": "code",
      "metadata": {
        "id": "hLkFethghgXn",
        "colab_type": "code",
        "colab": {}
      },
      "source": [
        "lst.remove(0)"
      ],
      "execution_count": 22,
      "outputs": []
    },
    {
      "cell_type": "code",
      "metadata": {
        "id": "9BuYC9pMhjfq",
        "colab_type": "code",
        "colab": {
          "base_uri": "https://localhost:8080/",
          "height": 34
        },
        "outputId": "9b9ae811-f497-4ade-de3f-c4b44273477f"
      },
      "source": [
        "lst"
      ],
      "execution_count": 23,
      "outputs": [
        {
          "output_type": "execute_result",
          "data": {
            "text/plain": [
              "[2, 1, 5, 6, 8, 9]"
            ]
          },
          "metadata": {
            "tags": []
          },
          "execution_count": 23
        }
      ]
    },
    {
      "cell_type": "code",
      "metadata": {
        "id": "Odg4d0l4hkfw",
        "colab_type": "code",
        "colab": {
          "base_uri": "https://localhost:8080/",
          "height": 34
        },
        "outputId": "f2e21e75-72e1-4ede-9436-8c13b790ce01"
      },
      "source": [
        "lst.pop(0)"
      ],
      "execution_count": 28,
      "outputs": [
        {
          "output_type": "execute_result",
          "data": {
            "text/plain": [
              "2"
            ]
          },
          "metadata": {
            "tags": []
          },
          "execution_count": 28
        }
      ]
    },
    {
      "cell_type": "code",
      "metadata": {
        "id": "eineG-huhnCF",
        "colab_type": "code",
        "colab": {
          "base_uri": "https://localhost:8080/",
          "height": 34
        },
        "outputId": "27e49d90-993f-4335-92cc-1644abb5e962"
      },
      "source": [
        "lst"
      ],
      "execution_count": 29,
      "outputs": [
        {
          "output_type": "execute_result",
          "data": {
            "text/plain": [
              "[1, 5, 6, 8, 9]"
            ]
          },
          "metadata": {
            "tags": []
          },
          "execution_count": 29
        }
      ]
    },
    {
      "cell_type": "code",
      "metadata": {
        "id": "NM6gsPIFhqw5",
        "colab_type": "code",
        "colab": {}
      },
      "source": [
        "lst.sort()"
      ],
      "execution_count": 30,
      "outputs": []
    },
    {
      "cell_type": "code",
      "metadata": {
        "id": "2WeZLsqliGls",
        "colab_type": "code",
        "colab": {
          "base_uri": "https://localhost:8080/",
          "height": 34
        },
        "outputId": "c4e5e710-9c00-4347-b4e3-ed2b9d471970"
      },
      "source": [
        "lst"
      ],
      "execution_count": 31,
      "outputs": [
        {
          "output_type": "execute_result",
          "data": {
            "text/plain": [
              "[1, 5, 6, 8, 9]"
            ]
          },
          "metadata": {
            "tags": []
          },
          "execution_count": 31
        }
      ]
    },
    {
      "cell_type": "code",
      "metadata": {
        "id": "KMSDKg6hiH0p",
        "colab_type": "code",
        "colab": {}
      },
      "source": [
        "lst.reverse()"
      ],
      "execution_count": 33,
      "outputs": []
    },
    {
      "cell_type": "code",
      "metadata": {
        "id": "wD2pH8taiKMY",
        "colab_type": "code",
        "colab": {
          "base_uri": "https://localhost:8080/",
          "height": 34
        },
        "outputId": "37f2953c-236a-45c3-9b71-cc46264d4b73"
      },
      "source": [
        "lst"
      ],
      "execution_count": 34,
      "outputs": [
        {
          "output_type": "execute_result",
          "data": {
            "text/plain": [
              "[9, 8, 6, 5, 1]"
            ]
          },
          "metadata": {
            "tags": []
          },
          "execution_count": 34
        }
      ]
    },
    {
      "cell_type": "code",
      "metadata": {
        "id": "xLTP1HgIiPV0",
        "colab_type": "code",
        "colab": {
          "base_uri": "https://localhost:8080/",
          "height": 34
        },
        "outputId": "ed80849e-ac5b-41a1-e0fb-fef2b29dd167"
      },
      "source": [
        "print(len(lst))"
      ],
      "execution_count": 35,
      "outputs": [
        {
          "output_type": "stream",
          "text": [
            "5\n"
          ],
          "name": "stdout"
        }
      ]
    },
    {
      "cell_type": "markdown",
      "metadata": {
        "id": "383tazN7uM9r",
        "colab_type": "text"
      },
      "source": [
        "## Question 2 Dictionary and its default functions"
      ]
    },
    {
      "cell_type": "code",
      "metadata": {
        "id": "SCnvBC47ipTW",
        "colab_type": "code",
        "colab": {
          "base_uri": "https://localhost:8080/",
          "height": 34
        },
        "outputId": "0b807ed0-666e-4fd7-f2c7-165e340f93b0"
      },
      "source": [
        "d={\"Fruit\":\"Banana\",\"Veg\":\"Potato\",\"NonVeg\":\"Fish\"}\n",
        "print(d)"
      ],
      "execution_count": 42,
      "outputs": [
        {
          "output_type": "stream",
          "text": [
            "{'Fruit': 'Banana', 'Veg': 'Potato', 'NonVeg': 'Fish'}\n"
          ],
          "name": "stdout"
        }
      ]
    },
    {
      "cell_type": "code",
      "metadata": {
        "id": "WmLjSke9mP47",
        "colab_type": "code",
        "colab": {
          "base_uri": "https://localhost:8080/",
          "height": 51
        },
        "outputId": "c947dbef-b866-4320-f5d3-ad01f3e2241a"
      },
      "source": [
        "print(d[\"Fruit\"])\n",
        "print(d.get(\"Veg\"))"
      ],
      "execution_count": 44,
      "outputs": [
        {
          "output_type": "stream",
          "text": [
            "Banana\n",
            "Potato\n"
          ],
          "name": "stdout"
        }
      ]
    },
    {
      "cell_type": "code",
      "metadata": {
        "id": "4TJ_LCGamQiD",
        "colab_type": "code",
        "colab": {
          "base_uri": "https://localhost:8080/",
          "height": 34
        },
        "outputId": "0f8f3ad5-f645-4857-8c79-9b5be5ead9fb"
      },
      "source": [
        "## update Dictionary\n",
        "d[\"Fruit\"]=\"Apple\"\n",
        "print(d)"
      ],
      "execution_count": 46,
      "outputs": [
        {
          "output_type": "stream",
          "text": [
            "{'Fruit': 'Apple', 'Veg': 'Potato', 'NonVeg': 'Fish'}\n"
          ],
          "name": "stdout"
        }
      ]
    },
    {
      "cell_type": "code",
      "metadata": {
        "id": "EhqCj68gnjWG",
        "colab_type": "code",
        "colab": {
          "base_uri": "https://localhost:8080/",
          "height": 34
        },
        "outputId": "9c2e51e3-9f32-4db3-b693-93aeb4b08654"
      },
      "source": [
        "## Add an item\n",
        "d[\"Juice\"]=\"Mango\"\n",
        "print(d)"
      ],
      "execution_count": 48,
      "outputs": [
        {
          "output_type": "stream",
          "text": [
            "{'Fruit': 'Apple', 'Veg': 'Potato', 'NonVeg': 'Fish', 'Juice': 'Mango'}\n"
          ],
          "name": "stdout"
        }
      ]
    },
    {
      "cell_type": "code",
      "metadata": {
        "id": "aBHrIE3hoRqv",
        "colab_type": "code",
        "colab": {
          "base_uri": "https://localhost:8080/",
          "height": 34
        },
        "outputId": "f9100c70-0d6d-4f21-a059-39d7263cbbd3"
      },
      "source": [
        "## Delte an item\n",
        "del d[\"Fruit\"]\n",
        "print(d)"
      ],
      "execution_count": 49,
      "outputs": [
        {
          "output_type": "stream",
          "text": [
            "{'Veg': 'Potato', 'NonVeg': 'Fish', 'Juice': 'Mango'}\n"
          ],
          "name": "stdout"
        }
      ]
    },
    {
      "cell_type": "markdown",
      "metadata": {
        "id": "EimiqCr2tgRl",
        "colab_type": "text"
      },
      "source": [
        "## Question 3 sets and its default Values\n",
        "\n",
        "\n",
        "\n"
      ]
    },
    {
      "cell_type": "code",
      "metadata": {
        "id": "i7hweDgYovBf",
        "colab_type": "code",
        "colab": {
          "base_uri": "https://localhost:8080/",
          "height": 34
        },
        "outputId": "741606bd-4309-4f59-8ba1-937539352cc7"
      },
      "source": [
        "sets={\"apple\",\"banana\",\"cherry\"}\n",
        "print(sets)"
      ],
      "execution_count": 62,
      "outputs": [
        {
          "output_type": "stream",
          "text": [
            "{'cherry', 'apple', 'banana'}\n"
          ],
          "name": "stdout"
        }
      ]
    },
    {
      "cell_type": "code",
      "metadata": {
        "id": "N8nAwAO3q__f",
        "colab_type": "code",
        "colab": {
          "base_uri": "https://localhost:8080/",
          "height": 34
        },
        "outputId": "b93ce557-d1a8-4a62-a49a-abc934ff96ef"
      },
      "source": [
        "### Add an item to set\n",
        "sets.add(\"orange\")\n",
        "print(sets)"
      ],
      "execution_count": 52,
      "outputs": [
        {
          "output_type": "stream",
          "text": [
            "{'orange', 'cherry', 'apple', 'banana'}\n"
          ],
          "name": "stdout"
        }
      ]
    },
    {
      "cell_type": "code",
      "metadata": {
        "id": "E3uweRhArK60",
        "colab_type": "code",
        "colab": {
          "base_uri": "https://localhost:8080/",
          "height": 34
        },
        "outputId": "5d0e8f2b-5a32-4ccd-c9ef-069dda7fe801"
      },
      "source": [
        "## to get length of set\n",
        "print(len(sets))"
      ],
      "execution_count": 53,
      "outputs": [
        {
          "output_type": "stream",
          "text": [
            "4\n"
          ],
          "name": "stdout"
        }
      ]
    },
    {
      "cell_type": "code",
      "metadata": {
        "id": "uArrD76Mreqd",
        "colab_type": "code",
        "colab": {
          "base_uri": "https://localhost:8080/",
          "height": 34
        },
        "outputId": "9e05cffd-3512-49b4-c758-8cd732264a76"
      },
      "source": [
        "## to remove an item\n",
        "sets.remove(\"banana\")\n",
        "print(sets)"
      ],
      "execution_count": 56,
      "outputs": [
        {
          "output_type": "stream",
          "text": [
            "{'orange', 'apple'}\n"
          ],
          "name": "stdout"
        }
      ]
    },
    {
      "cell_type": "code",
      "metadata": {
        "id": "v9QrTnVbru_W",
        "colab_type": "code",
        "colab": {
          "base_uri": "https://localhost:8080/",
          "height": 34
        },
        "outputId": "8156f164-b79e-4829-b5cc-b1bdc892ef72"
      },
      "source": [
        "### to pop set\n",
        "sets.pop()\n",
        "print(sets)"
      ],
      "execution_count": 59,
      "outputs": [
        {
          "output_type": "stream",
          "text": [
            "set()\n"
          ],
          "name": "stdout"
        }
      ]
    },
    {
      "cell_type": "code",
      "metadata": {
        "id": "bzroWB25sZx2",
        "colab_type": "code",
        "colab": {
          "base_uri": "https://localhost:8080/",
          "height": 34
        },
        "outputId": "a4789e07-c1f2-41b0-f6e4-252da3127474"
      },
      "source": [
        "# join two sets\n",
        "st1={'a','s','d'}\n",
        "st2={1,4,8}\n",
        "st3=st1.union(st2)\n",
        "print(st3)"
      ],
      "execution_count": 61,
      "outputs": [
        {
          "output_type": "stream",
          "text": [
            "{1, 'd', 4, 8, 'a', 's'}\n"
          ],
          "name": "stdout"
        }
      ]
    },
    {
      "cell_type": "markdown",
      "metadata": {
        "id": "cB0lclnbuxJT",
        "colab_type": "text"
      },
      "source": [
        "## Question 4 Tuples and its default functions"
      ]
    },
    {
      "cell_type": "code",
      "metadata": {
        "id": "b1lbFPsXs4WZ",
        "colab_type": "code",
        "colab": {
          "base_uri": "https://localhost:8080/",
          "height": 34
        },
        "outputId": "f2195a6c-be8a-4fd7-95cd-5d138b5d8107"
      },
      "source": [
        "tpl=(\"ant\",\"bat\",\"cat\")\n",
        "print(tpl)"
      ],
      "execution_count": 64,
      "outputs": [
        {
          "output_type": "stream",
          "text": [
            "('ant', 'bat', 'cat')\n"
          ],
          "name": "stdout"
        }
      ]
    },
    {
      "cell_type": "code",
      "metadata": {
        "id": "fiuEdcBRvVOQ",
        "colab_type": "code",
        "colab": {
          "base_uri": "https://localhost:8080/",
          "height": 34
        },
        "outputId": "3737dec2-11ec-4b63-edbf-c8a1b018cd25"
      },
      "source": [
        "tpl[-1]\n",
        "print(tpl)"
      ],
      "execution_count": 68,
      "outputs": [
        {
          "output_type": "stream",
          "text": [
            "('ant', 'bat', 'cat')\n"
          ],
          "name": "stdout"
        }
      ]
    },
    {
      "cell_type": "code",
      "metadata": {
        "id": "enxbp7d4vaQd",
        "colab_type": "code",
        "colab": {
          "base_uri": "https://localhost:8080/",
          "height": 34
        },
        "outputId": "080e682e-551f-4782-a356-cc180dea029c"
      },
      "source": [
        "print(len(tpl))"
      ],
      "execution_count": 69,
      "outputs": [
        {
          "output_type": "stream",
          "text": [
            "3\n"
          ],
          "name": "stdout"
        }
      ]
    },
    {
      "cell_type": "markdown",
      "metadata": {
        "id": "wvE5Y8lMyy5Q",
        "colab_type": "text"
      },
      "source": [
        "## Question 5 string and default function"
      ]
    },
    {
      "cell_type": "code",
      "metadata": {
        "id": "TPWJfUoFvvor",
        "colab_type": "code",
        "colab": {
          "base_uri": "https://localhost:8080/",
          "height": 34
        },
        "outputId": "3739b5ec-6c25-4f73-c12f-623317d724e9"
      },
      "source": [
        "string=\"Hello Welcome to Python\"\n",
        "print(string)"
      ],
      "execution_count": 79,
      "outputs": [
        {
          "output_type": "stream",
          "text": [
            "Hello Welcome to Python\n"
          ],
          "name": "stdout"
        }
      ]
    },
    {
      "cell_type": "code",
      "metadata": {
        "id": "684KfGJewBOz",
        "colab_type": "code",
        "colab": {
          "base_uri": "https://localhost:8080/",
          "height": 34
        },
        "outputId": "6850cb54-8738-492d-9dc4-de5f673d0da2"
      },
      "source": [
        "print(string[1])"
      ],
      "execution_count": 80,
      "outputs": [
        {
          "output_type": "stream",
          "text": [
            "e\n"
          ],
          "name": "stdout"
        }
      ]
    },
    {
      "cell_type": "code",
      "metadata": {
        "id": "vvFkxKRCzRFQ",
        "colab_type": "code",
        "colab": {
          "base_uri": "https://localhost:8080/",
          "height": 34
        },
        "outputId": "92fb0fe5-6c23-4825-e6b5-7932f92e4712"
      },
      "source": [
        "## slicing\n",
        "print(string[5:13])"
      ],
      "execution_count": 82,
      "outputs": [
        {
          "output_type": "stream",
          "text": [
            " Welcome\n"
          ],
          "name": "stdout"
        }
      ]
    },
    {
      "cell_type": "code",
      "metadata": {
        "id": "EW7hI8yazp5f",
        "colab_type": "code",
        "colab": {
          "base_uri": "https://localhost:8080/",
          "height": 34
        },
        "outputId": "11cad16d-e6f5-4963-f733-2e5514a87fd5"
      },
      "source": [
        "## length of string\n",
        "print(len(string))"
      ],
      "execution_count": 83,
      "outputs": [
        {
          "output_type": "stream",
          "text": [
            "23\n"
          ],
          "name": "stdout"
        }
      ]
    },
    {
      "cell_type": "code",
      "metadata": {
        "id": "XeBtBE1Bz235",
        "colab_type": "code",
        "colab": {
          "base_uri": "https://localhost:8080/",
          "height": 34
        },
        "outputId": "b27ad455-1e28-4029-95c4-038429cca15f"
      },
      "source": [
        "print(string.strip())"
      ],
      "execution_count": 84,
      "outputs": [
        {
          "output_type": "stream",
          "text": [
            "Hello Welcome to Python\n"
          ],
          "name": "stdout"
        }
      ]
    },
    {
      "cell_type": "code",
      "metadata": {
        "id": "upjbDUS7z-F_",
        "colab_type": "code",
        "colab": {
          "base_uri": "https://localhost:8080/",
          "height": 51
        },
        "outputId": "37258c07-3921-491e-d1b5-ff4481039aa5"
      },
      "source": [
        "## to print in lower case\n",
        "print(string.lower())\n",
        "## to print in upper case\n",
        "print(string.upper())"
      ],
      "execution_count": 86,
      "outputs": [
        {
          "output_type": "stream",
          "text": [
            "hello welcome to python\n",
            "HELLO WELCOME TO PYTHON\n"
          ],
          "name": "stdout"
        }
      ]
    },
    {
      "cell_type": "code",
      "metadata": {
        "id": "Pca4MAxP0ImM",
        "colab_type": "code",
        "colab": {}
      },
      "source": [
        ""
      ],
      "execution_count": null,
      "outputs": []
    }
  ]
}