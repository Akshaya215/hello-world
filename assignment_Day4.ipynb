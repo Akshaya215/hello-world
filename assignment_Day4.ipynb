{
  "nbformat": 4,
  "nbformat_minor": 0,
  "metadata": {
    "colab": {
      "name": "assignment_Day4.ipynb",
      "provenance": [],
      "authorship_tag": "ABX9TyMcApJB5byPtlvOM4hjLiZt",
      "include_colab_link": true
    },
    "kernelspec": {
      "name": "python3",
      "display_name": "Python 3"
    }
  },
  "cells": [
    {
      "cell_type": "markdown",
      "metadata": {
        "id": "view-in-github",
        "colab_type": "text"
      },
      "source": [
        "<a href=\"https://colab.research.google.com/github/Akshaya215/hello-world/blob/master/assignment_Day4.ipynb\" target=\"_parent\"><img src=\"https://colab.research.google.com/assets/colab-badge.svg\" alt=\"Open In Colab\"/></a>"
      ]
    },
    {
      "cell_type": "markdown",
      "metadata": {
        "id": "gVsxifIn8yuM",
        "colab_type": "text"
      },
      "source": [
        "## Question 1 find Armstrong Number"
      ]
    },
    {
      "cell_type": "code",
      "metadata": {
        "id": "lPfICorJbJ3m",
        "colab_type": "code",
        "colab": {}
      },
      "source": [
        "for num in range(104200,702648265):\n",
        "    sum = 0\n",
        "    temp = num\n",
        "    while temp > 0:\n",
        "        digit = temp % 10\n",
        "        sum += digit ** 3\n",
        "        temp //= 10\n",
        "    if num == sum:\n",
        "        print(num) \n",
        "        break\n",
        "    else:\n",
        "        continue"
      ],
      "execution_count": null,
      "outputs": []
    },
    {
      "cell_type": "code",
      "metadata": {
        "id": "wsIkaACj9yig",
        "colab_type": "code",
        "colab": {}
      },
      "source": [
        ""
      ],
      "execution_count": null,
      "outputs": []
    }
  ]
}